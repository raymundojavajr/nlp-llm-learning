{
 "cells": [
  {
   "cell_type": "markdown",
   "id": "27fde48f-ad9f-4151-86a5-07f32781a623",
   "metadata": {},
   "source": [
    "# Transformer - Based Models\n",
    "\n",
    "Jesus Felix B. Valenzuela, Ph.D.    \n",
    "17 January 2025"
   ]
  },
  {
   "cell_type": "markdown",
   "id": "abbbe7a0-2514-4efd-bf94-4ef33915859c",
   "metadata": {},
   "source": [
    "## Preliminaries"
   ]
  },
  {
   "cell_type": "code",
   "execution_count": 1,
   "id": "920d3d5a-7b07-42ec-b492-4665c87567e8",
   "metadata": {
    "execution": {
     "iopub.execute_input": "2025-01-17T11:23:59.403921Z",
     "iopub.status.busy": "2025-01-17T11:23:59.403469Z",
     "iopub.status.idle": "2025-01-17T11:23:59.409263Z",
     "shell.execute_reply": "2025-01-17T11:23:59.407701Z",
     "shell.execute_reply.started": "2025-01-17T11:23:59.403890Z"
    }
   },
   "outputs": [],
   "source": [
    "# Uncomment and run these to install HuggingFace in case you haven't yet\n",
    "#!pip install transformers datasets huggingface_hub[cli]\n",
    "# Install this to simplify usage of BERT derivatives when doing text embeddings\n",
    "#!pip install sentence-transformers \n",
    "# Install this to use BART\n",
    "#!pip install sentencepiece\n",
    "# Install this to use Flan-T5\n",
    "#!pip install accelerate"
   ]
  },
  {
   "cell_type": "code",
   "execution_count": 2,
   "id": "ebd8d8ec-f4fb-4ece-80c5-f862e51612a9",
   "metadata": {
    "execution": {
     "iopub.execute_input": "2025-01-17T11:23:59.411612Z",
     "iopub.status.busy": "2025-01-17T11:23:59.411256Z",
     "iopub.status.idle": "2025-01-17T11:24:00.353135Z",
     "shell.execute_reply": "2025-01-17T11:24:00.352835Z",
     "shell.execute_reply.started": "2025-01-17T11:23:59.411580Z"
    }
   },
   "outputs": [],
   "source": [
    "import torch"
   ]
  },
  {
   "cell_type": "markdown",
   "id": "980f8f9b-ee2f-4ef4-9cf1-394cd1619d19",
   "metadata": {},
   "source": [
    "## Using BERT"
   ]
  },
  {
   "cell_type": "code",
   "execution_count": 17,
   "id": "17fd3208-37c4-4ce8-b7e5-339f927829c7",
   "metadata": {
    "execution": {
     "iopub.execute_input": "2025-01-17T11:38:48.782634Z",
     "iopub.status.busy": "2025-01-17T11:38:48.781531Z",
     "iopub.status.idle": "2025-01-17T11:38:51.842099Z",
     "shell.execute_reply": "2025-01-17T11:38:51.841651Z",
     "shell.execute_reply.started": "2025-01-17T11:38:48.782565Z"
    }
   },
   "outputs": [],
   "source": [
    "from transformers import AutoTokenizer, BertModel\n",
    "modelname = \"bert-base-uncased\"\n",
    "tokenizer = AutoTokenizer.from_pretrained(modelname)\n",
    "bertmodel = BertModel.from_pretrained(modelname)"
   ]
  },
  {
   "cell_type": "code",
   "execution_count": 18,
   "id": "eead32b6-31a5-4288-81d9-b4c93423d879",
   "metadata": {
    "execution": {
     "iopub.execute_input": "2025-01-17T11:40:44.898250Z",
     "iopub.status.busy": "2025-01-17T11:40:44.897788Z",
     "iopub.status.idle": "2025-01-17T11:40:44.909689Z",
     "shell.execute_reply": "2025-01-17T11:40:44.908296Z",
     "shell.execute_reply.started": "2025-01-17T11:40:44.898217Z"
    }
   },
   "outputs": [
    {
     "name": "stdout",
     "output_type": "stream",
     "text": [
      "{'input_ids': tensor([[ 101, 3019, 2653, 6364, 2003, 1037, 2200, 2898, 2492, 1012,  102]]), 'token_type_ids': tensor([[0, 0, 0, 0, 0, 0, 0, 0, 0, 0, 0]]), 'attention_mask': tensor([[1, 1, 1, 1, 1, 1, 1, 1, 1, 1, 1]])}\n"
     ]
    }
   ],
   "source": [
    "input_text = [\"Natural Language Processing is a very wide field.\"]\n",
    "tokens = tokenizer(input_text, return_tensors=\"pt\")\n",
    "print(tokens)"
   ]
  },
  {
   "cell_type": "code",
   "execution_count": 19,
   "id": "7ec71cc6-7872-439f-bb49-75c073ae5f05",
   "metadata": {
    "execution": {
     "iopub.execute_input": "2025-01-17T11:42:41.247848Z",
     "iopub.status.busy": "2025-01-17T11:42:41.247345Z",
     "iopub.status.idle": "2025-01-17T11:42:41.254832Z",
     "shell.execute_reply": "2025-01-17T11:42:41.253402Z",
     "shell.execute_reply.started": "2025-01-17T11:42:41.247812Z"
    }
   },
   "outputs": [
    {
     "data": {
      "text/plain": [
       "['natural', 'language', 'processing', 'is', 'a', 'very', 'wide', 'field', '.']"
      ]
     },
     "execution_count": 19,
     "metadata": {},
     "output_type": "execute_result"
    }
   ],
   "source": [
    "tokenizer.tokenize(\"Natural Language Processing is a very wide field.\")"
   ]
  },
  {
   "cell_type": "code",
   "execution_count": 20,
   "id": "7739d3d3-4fd5-4b0c-9bd8-64e1db53a216",
   "metadata": {
    "execution": {
     "iopub.execute_input": "2025-01-17T11:43:55.445558Z",
     "iopub.status.busy": "2025-01-17T11:43:55.445116Z",
     "iopub.status.idle": "2025-01-17T11:43:56.179554Z",
     "shell.execute_reply": "2025-01-17T11:43:56.179221Z",
     "shell.execute_reply.started": "2025-01-17T11:43:55.445529Z"
    }
   },
   "outputs": [
    {
     "data": {
      "text/plain": [
       "BaseModelOutputWithPoolingAndCrossAttentions(last_hidden_state=tensor([[[-0.1693, -0.2122, -0.3980,  ..., -0.2662, -0.2869,  0.7585],\n",
       "         [-0.1032, -0.0960, -0.8725,  ..., -0.4872,  0.2756,  0.5792],\n",
       "         [-0.7408,  0.2634,  0.2827,  ..., -0.7560, -0.5950,  0.1122],\n",
       "         ...,\n",
       "         [ 0.2949,  0.2133,  0.2558,  ..., -0.5548, -0.0925,  0.2125],\n",
       "         [ 0.7430, -0.1533, -0.7244,  ..., -0.0267, -0.7870, -0.0513],\n",
       "         [-0.2513, -0.2722, -0.2822,  ...,  0.3031, -0.7245, -0.0602]]]), pooler_output=tensor([[-0.9398, -0.6118, -0.9636,  0.8349,  0.8394, -0.5285,  0.8046,  0.4773,\n",
       "         -0.8753, -1.0000, -0.6853,  0.9650,  0.9809,  0.5288,  0.8542, -0.8130,\n",
       "         -0.5902, -0.6530,  0.4613, -0.1233,  0.6875,  1.0000, -0.3017,  0.5543,\n",
       "          0.5611,  0.9905, -0.8589,  0.9317,  0.9538,  0.7726, -0.7375,  0.5178,\n",
       "         -0.9925, -0.3157, -0.9516, -0.9908,  0.7284, -0.7133, -0.0892, -0.3199,\n",
       "         -0.8978,  0.5811,  1.0000, -0.6053,  0.6963, -0.5386, -1.0000,  0.4852,\n",
       "         -0.8745,  0.9567,  0.9054,  0.9346,  0.4254,  0.6890,  0.6922, -0.6506,\n",
       "          0.0139,  0.2610, -0.4901, -0.7812, -0.7221,  0.5604, -0.8690, -0.8810,\n",
       "          0.9582,  0.8835, -0.4145, -0.5268, -0.3225,  0.2660,  0.9107,  0.4624,\n",
       "         -0.4813, -0.7936,  0.8073,  0.4675, -0.5403,  1.0000, -0.7473, -0.9807,\n",
       "          0.9134,  0.8587,  0.5282, -0.6755,  0.6477, -1.0000,  0.7734, -0.3582,\n",
       "         -0.9860,  0.4452,  0.7355, -0.4679,  0.7949,  0.6048, -0.6681, -0.6612,\n",
       "         -0.4798, -0.9397, -0.4612, -0.6664,  0.3793, -0.4987, -0.6363, -0.6002,\n",
       "          0.6156, -0.7128, -0.3172,  0.6480,  0.3651,  0.7284,  0.4452, -0.5261,\n",
       "          0.6670, -0.9394,  0.7225, -0.5219, -0.9888, -0.5403, -0.9865,  0.7708,\n",
       "         -0.2990, -0.4949,  0.9314, -0.5520,  0.6456, -0.4282, -0.9435, -1.0000,\n",
       "         -0.7326, -0.7828, -0.4450, -0.5428, -0.9850, -0.9637,  0.7329,  0.9628,\n",
       "          0.5071,  1.0000, -0.6253,  0.9210, -0.3091, -0.8074,  0.7459, -0.5519,\n",
       "          0.8610,  0.2506, -0.5948,  0.4311, -0.7011,  0.4800, -0.8310, -0.5001,\n",
       "         -0.8439, -0.8722, -0.5467,  0.8810, -0.5860, -0.9725, -0.2269, -0.4209,\n",
       "         -0.5663,  0.8794,  0.8785,  0.5224, -0.5007,  0.5742,  0.1714,  0.7061,\n",
       "         -0.8689, -0.2988,  0.6294, -0.5695, -0.9126, -0.9816, -0.5064,  0.5793,\n",
       "          0.9847,  0.7516,  0.5368,  0.8887, -0.5814,  0.7009, -0.9452,  0.9858,\n",
       "         -0.3266,  0.3917, -0.7953,  0.6723, -0.9108,  0.1445,  0.9059, -0.6852,\n",
       "         -0.8901, -0.3753, -0.7127, -0.6273, -0.9105,  0.7301, -0.5346, -0.4668,\n",
       "         -0.4334,  0.9184,  0.9812,  0.7651,  0.5491,  0.7471, -0.8860, -0.3561,\n",
       "          0.4347,  0.5537,  0.4043,  0.9939, -0.8563, -0.3670, -0.8789, -0.9741,\n",
       "          0.3194, -0.7990, -0.4165, -0.8291,  0.7908, -0.6832,  0.5410,  0.4289,\n",
       "         -0.8988, -0.7257,  0.4483, -0.6391,  0.6728, -0.4458,  0.9121,  0.9667,\n",
       "         -0.7501,  0.4807,  0.9628, -0.9570, -0.8120,  0.5615, -0.4854,  0.8854,\n",
       "         -0.7185,  0.9953,  0.9253,  0.8119, -0.9068, -0.8797, -0.9011, -0.7915,\n",
       "         -0.3880,  0.2955,  0.9546,  0.6524,  0.6125,  0.1816, -0.7369,  0.9952,\n",
       "         -0.9479, -0.9577, -0.8417, -0.3803, -0.9918,  0.9316,  0.5126,  0.8742,\n",
       "         -0.7222, -0.8310, -0.9588,  0.8252,  0.3240,  0.9713, -0.7506, -0.8705,\n",
       "         -0.8208, -0.9298,  0.1706, -0.4253, -0.6003,  0.1636, -0.9284,  0.6617,\n",
       "          0.7226,  0.7389, -0.9272,  0.9986,  1.0000,  0.9751,  0.8799,  0.8073,\n",
       "         -1.0000, -0.8598,  1.0000, -0.9979, -1.0000, -0.9343, -0.7708,  0.5456,\n",
       "         -1.0000, -0.4178, -0.2330, -0.8829,  0.8617,  0.9749,  0.9754, -1.0000,\n",
       "          0.9184,  0.9304, -0.6193,  0.9643, -0.6118,  0.9760,  0.6409,  0.7310,\n",
       "         -0.4321,  0.5592, -0.9633, -0.8830, -0.7805, -0.9022,  0.9999,  0.3495,\n",
       "         -0.7657, -0.8712,  0.7467, -0.2209, -0.0032, -0.9608, -0.4588,  0.6995,\n",
       "          0.8575,  0.4576,  0.4954, -0.7210,  0.6187,  0.2892,  0.4398,  0.5865,\n",
       "         -0.9341, -0.5488,  0.1088,  0.3689, -0.7143, -0.9721,  0.9627, -0.4910,\n",
       "          0.8893,  1.0000,  0.7856, -0.8807,  0.7310,  0.4357, -0.4553,  1.0000,\n",
       "          0.8420, -0.9846, -0.5797,  0.7327, -0.7651, -0.7751,  0.9996, -0.4015,\n",
       "         -0.8496, -0.6609,  0.9856, -0.9877,  0.9994, -0.8524, -0.9603,  0.9561,\n",
       "          0.9245, -0.7840, -0.7980,  0.3565, -0.7666,  0.5126, -0.8926,  0.7554,\n",
       "          0.5320, -0.2536,  0.8530, -0.7417, -0.5562,  0.5792, -0.8498, -0.2880,\n",
       "          0.9677,  0.6679, -0.5286,  0.2401, -0.4769, -0.7061, -0.9698,  0.7563,\n",
       "          1.0000, -0.4455,  0.9059, -0.4814, -0.2859,  0.2364,  0.7471,  0.7795,\n",
       "         -0.5302, -0.8618,  0.8407, -0.9054, -0.9887,  0.6104,  0.4382, -0.5096,\n",
       "          1.0000,  0.5465,  0.2746,  0.6008,  0.9946,  0.3090,  0.5429,  0.9533,\n",
       "          0.9872, -0.5766,  0.6004,  0.8117, -0.9531, -0.5099, -0.7847,  0.2548,\n",
       "         -0.9452, -0.2172, -0.9521,  0.9607,  0.9753,  0.6193,  0.4260,  0.8382,\n",
       "          1.0000, -0.9397,  0.6847, -0.0393,  0.6296, -1.0000, -0.6886, -0.6161,\n",
       "         -0.4135, -0.9074, -0.5177,  0.4317, -0.9729,  0.9047,  0.7881, -0.9619,\n",
       "         -0.9836, -0.5201,  0.9135,  0.1993, -0.9963, -0.6918, -0.6765,  0.7031,\n",
       "         -0.5481, -0.8849, -0.4266, -0.5968,  0.5876, -0.5044,  0.5893,  0.9273,\n",
       "          0.6556, -0.9641, -0.6288, -0.3479, -0.7224,  0.8432, -0.8478, -0.9506,\n",
       "         -0.3854,  1.0000, -0.5251,  0.9669,  0.7283,  0.7436, -0.3562,  0.2914,\n",
       "          0.9747,  0.4937, -0.8541, -0.9438, -0.3039, -0.6434,  0.7250,  0.8585,\n",
       "          0.8066,  0.7847,  0.9559,  0.5008, -0.3152,  0.2956,  0.9994, -0.4193,\n",
       "         -0.4463, -0.6341, -0.3142, -0.5557, -0.0079,  1.0000,  0.5592,  0.7963,\n",
       "         -0.9881, -0.9212, -0.9192,  1.0000,  0.8682, -0.8657,  0.8008,  0.6774,\n",
       "         -0.3736,  0.7767, -0.3801, -0.5257,  0.4719,  0.3870,  0.9641, -0.6856,\n",
       "         -0.9718, -0.7700,  0.6107, -0.9643,  1.0000, -0.7737, -0.5003, -0.5494,\n",
       "         -0.6443, -0.3276,  0.0629, -0.9724, -0.3792,  0.3774,  0.9595,  0.6109,\n",
       "         -0.4996, -0.8643,  0.9170,  0.8869, -0.9478, -0.9368,  0.9636, -0.9368,\n",
       "          0.6479,  1.0000,  0.6012,  0.5762,  0.4625, -0.5474,  0.6198, -0.7018,\n",
       "          0.7914, -0.9479, -0.6456, -0.4181,  0.5758, -0.5187, -0.8653,  0.7239,\n",
       "          0.3973, -0.5606, -0.7490, -0.4869,  0.6592,  0.8316, -0.4202, -0.3269,\n",
       "          0.3867, -0.3864, -0.8653, -0.5981, -0.7237, -1.0000,  0.6679, -1.0000,\n",
       "          0.7430,  0.2463, -0.3571,  0.8749,  0.8339,  0.8323, -0.7725, -0.9440,\n",
       "          0.1959,  0.7655, -0.5366, -0.4200, -0.6675,  0.5998, -0.2827,  0.3133,\n",
       "         -0.7283,  0.8247, -0.5075,  1.0000,  0.4482, -0.8136, -0.9179,  0.4521,\n",
       "         -0.5511,  1.0000, -0.8902, -0.9713,  0.4627, -0.8848, -0.7510,  0.6431,\n",
       "          0.3556, -0.8714, -0.9787,  0.8915,  0.8977, -0.4842,  0.7648, -0.5309,\n",
       "         -0.6663,  0.2194,  0.9595,  0.9858,  0.7753,  0.9095, -0.5859, -0.5033,\n",
       "          0.9646,  0.4803,  0.4706,  0.2595,  1.0000,  0.5973, -0.9171,  0.0079,\n",
       "         -0.9679, -0.4210, -0.9383,  0.6209,  0.4873,  0.9054, -0.5334,  0.9594,\n",
       "         -0.8950,  0.2882, -0.7350, -0.5259,  0.6063, -0.9344, -0.9833, -0.9822,\n",
       "          0.7157, -0.5742, -0.3761,  0.4690,  0.3340,  0.6686,  0.5679, -1.0000,\n",
       "          0.9467,  0.6209,  0.9475,  0.9447,  0.7930,  0.7573,  0.4253, -0.9866,\n",
       "         -0.9347, -0.6098, -0.4881,  0.7130,  0.7721,  0.8816,  0.5347, -0.6273,\n",
       "         -0.7634, -0.6949, -0.9240, -0.9905,  0.5917, -0.7507, -0.8919,  0.9696,\n",
       "         -0.1880, -0.3118, -0.1436, -0.9250,  0.8530,  0.7904,  0.2739,  0.1970,\n",
       "          0.5979,  0.8557,  0.9206,  0.9807, -0.9109,  0.8357, -0.8884,  0.6334,\n",
       "          0.9157, -0.9614,  0.4304,  0.8054, -0.3428,  0.5345, -0.4369, -0.8615,\n",
       "          0.8955, -0.4840,  0.6875, -0.5004, -0.1863, -0.5824, -0.3257, -0.8169,\n",
       "         -0.6450,  0.4983,  0.5098,  0.9091,  0.9211, -0.3173, -0.7006, -0.3276,\n",
       "         -0.8715, -0.9403,  0.8899, -0.2902, -0.3760,  0.8957,  0.2102,  0.9643,\n",
       "          0.5171, -0.5991, -0.5732, -0.8750,  0.8435, -0.8125, -0.7574, -0.7335,\n",
       "          0.7548,  0.5245,  1.0000, -0.9039, -0.9498, -0.7352, -0.6111,  0.5619,\n",
       "         -0.5305, -1.0000,  0.6394, -0.7468,  0.8276, -0.7183,  0.9193, -0.7970,\n",
       "         -0.9630, -0.5378,  0.8999,  0.8886, -0.6966, -0.7544,  0.4375, -0.4474,\n",
       "          0.9895,  0.8405, -0.8370, -0.2193,  0.5675, -0.9501, -0.7689,  0.8397]]), hidden_states=None, past_key_values=None, attentions=None, cross_attentions=None)"
      ]
     },
     "execution_count": 20,
     "metadata": {},
     "output_type": "execute_result"
    }
   ],
   "source": [
    "bertmodel.eval() # No training, so optimizes things a bit\n",
    "with torch.no_grad(): # No need for backprop, so optimizes things a bit. Can be removed\n",
    "    outputs = bertmodel(**tokens)\n",
    "outputs"
   ]
  },
  {
   "cell_type": "code",
   "execution_count": 21,
   "id": "f54c7ebd-50f1-4983-ab69-e2b1336632aa",
   "metadata": {
    "execution": {
     "iopub.execute_input": "2025-01-17T11:48:31.872350Z",
     "iopub.status.busy": "2025-01-17T11:48:31.871500Z",
     "iopub.status.idle": "2025-01-17T11:48:31.880837Z",
     "shell.execute_reply": "2025-01-17T11:48:31.879032Z",
     "shell.execute_reply.started": "2025-01-17T11:48:31.872292Z"
    }
   },
   "outputs": [
    {
     "data": {
      "text/plain": [
       "torch.Size([1, 11, 768])"
      ]
     },
     "execution_count": 21,
     "metadata": {},
     "output_type": "execute_result"
    }
   ],
   "source": [
    "outputs.last_hidden_state.shape"
   ]
  },
  {
   "cell_type": "markdown",
   "id": "f3f81a49-f611-455d-a932-c116811d840c",
   "metadata": {},
   "source": [
    "## Using BERT derivatives with `sentence-transformers`\n",
    "\n",
    "`sentence-transformers` simplifies the usage of BERT-derived models somewhat, especially when we need them to generate text embeddings."
   ]
  },
  {
   "cell_type": "code",
   "execution_count": 22,
   "id": "e38fccd7-b4b0-4425-8bde-692d44c04313",
   "metadata": {
    "execution": {
     "iopub.execute_input": "2025-01-17T11:51:50.204031Z",
     "iopub.status.busy": "2025-01-17T11:51:50.203032Z",
     "iopub.status.idle": "2025-01-17T11:51:50.208662Z",
     "shell.execute_reply": "2025-01-17T11:51:50.207559Z",
     "shell.execute_reply.started": "2025-01-17T11:51:50.203980Z"
    }
   },
   "outputs": [
    {
     "data": {
      "application/vnd.jupyter.widget-view+json": {
       "model_id": "bb94499685634a248cc7c810c3cc6c6f",
       "version_major": 2,
       "version_minor": 0
      },
      "text/plain": [
       "model.safetensors:  20%|#9        | 241M/1.22G [00:00<?, ?B/s]"
      ]
     },
     "metadata": {},
     "output_type": "display_data"
    }
   ],
   "source": [
    "from sentence_transformers import SentenceTransformer"
   ]
  },
  {
   "cell_type": "code",
   "execution_count": 23,
   "id": "9e4d84c3-cb38-4b8f-ba03-d019a68c4a5b",
   "metadata": {
    "execution": {
     "iopub.execute_input": "2025-01-17T11:52:36.884419Z",
     "iopub.status.busy": "2025-01-17T11:52:36.883678Z",
     "iopub.status.idle": "2025-01-17T11:52:42.555178Z",
     "shell.execute_reply": "2025-01-17T11:52:42.554802Z",
     "shell.execute_reply.started": "2025-01-17T11:52:36.884384Z"
    }
   },
   "outputs": [
    {
     "data": {
      "text/plain": [
       "array([[ 4.60704230e-02, -5.71745783e-02,  2.92225182e-02,\n",
       "        -3.62470038e-02,  9.62645281e-03, -2.18184409e-03,\n",
       "        -4.17182669e-02,  3.77881713e-02, -8.20113812e-03,\n",
       "         3.52722667e-02, -3.65186408e-02,  2.49261223e-02,\n",
       "         1.84047557e-02,  1.01558911e-02,  8.39706510e-02,\n",
       "         6.14678897e-02, -3.13437469e-02, -4.06650752e-02,\n",
       "        -1.20070934e-01, -1.11588858e-01,  2.77423579e-02,\n",
       "         8.83724242e-02, -3.47970128e-02, -4.72619645e-02,\n",
       "         4.66794195e-03,  6.27674013e-02, -1.79232489e-02,\n",
       "        -1.11432225e-01,  6.68309256e-02, -1.01601956e-02,\n",
       "        -1.00937234e-02,  6.43252060e-02,  4.29243594e-02,\n",
       "         1.00725211e-01, -2.45182272e-02,  4.68435474e-02,\n",
       "        -2.21674461e-02,  4.87085208e-02,  3.31762955e-02,\n",
       "         7.10165454e-03, -7.10705668e-02, -8.55962373e-03,\n",
       "        -2.11429363e-03, -2.88667176e-02,  1.13575406e-01,\n",
       "        -1.17396256e-02, -1.06823646e-01, -3.02070621e-02,\n",
       "        -3.97232659e-02,  1.96568333e-02, -1.31978035e-01,\n",
       "        -2.93034682e-04,  1.77618023e-02,  1.14717685e-01,\n",
       "        -4.89144288e-02,  6.52682558e-02, -2.07539042e-03,\n",
       "        -3.66596244e-02, -4.72124815e-02, -3.07374503e-02,\n",
       "        -3.32948491e-02, -6.74483553e-02, -6.12628087e-02,\n",
       "         4.68843803e-02,  2.51736064e-02,  2.11107023e-02,\n",
       "        -4.71405871e-02,  4.23254771e-03,  9.85295512e-04,\n",
       "        -5.83048239e-02, -2.59799454e-02,  8.70368481e-02,\n",
       "        -1.53297316e-02,  1.22683167e-01,  2.25888435e-02,\n",
       "         6.77920729e-02, -2.91424314e-03, -1.99189689e-02,\n",
       "         8.97392631e-02, -1.90818813e-02,  6.70846924e-02,\n",
       "        -6.13228511e-03,  5.55380508e-02, -7.16164941e-03,\n",
       "         1.22296758e-01, -4.02772278e-02, -3.53548001e-03,\n",
       "         2.07984149e-02, -7.00257421e-02,  5.52680939e-02,\n",
       "        -4.43122424e-02, -1.33012563e-01,  1.15793735e-01,\n",
       "        -2.95453425e-02,  2.75609698e-02,  2.93283421e-03,\n",
       "        -3.12791690e-02, -4.79406305e-02,  5.48388325e-02,\n",
       "         5.50768897e-03, -1.40783712e-02, -8.54245853e-03,\n",
       "         5.44789480e-03, -3.12256403e-02, -5.62987104e-02,\n",
       "         1.48336322e-03, -1.10228360e-02,  3.64247262e-02,\n",
       "         4.02730368e-02, -1.05823524e-01, -8.09198394e-02,\n",
       "         5.96685447e-02, -1.37638301e-02,  2.41937279e-03,\n",
       "         5.06344996e-02,  7.60083646e-03,  1.18290531e-02,\n",
       "         2.77582817e-02,  8.88528228e-02,  5.28971627e-02,\n",
       "        -6.83229044e-02,  8.52467790e-02, -8.32020640e-02,\n",
       "         2.40098350e-02,  5.22984155e-02, -6.82796314e-02,\n",
       "         4.77321930e-02, -2.73446343e-33, -2.17572157e-03,\n",
       "         5.70972599e-02, -1.61922406e-02,  2.14375556e-02,\n",
       "        -3.82906273e-02,  4.10234109e-02, -2.14008149e-02,\n",
       "         1.06982829e-03,  4.52002650e-03,  1.23503804e-02,\n",
       "         4.13513333e-02,  5.22242971e-02,  3.50762683e-04,\n",
       "        -1.49746565e-02,  6.51086941e-02, -2.56520249e-02,\n",
       "        -2.05621962e-02,  5.20655513e-02,  3.32412124e-02,\n",
       "        -4.58330335e-03, -2.03609671e-02,  2.69055422e-02,\n",
       "         1.41717335e-02,  4.08188216e-02, -3.29036042e-02,\n",
       "         2.44531296e-02,  4.55197506e-02, -5.52117266e-02,\n",
       "         2.15868913e-02,  8.49594269e-03, -3.85166816e-02,\n",
       "        -1.37678916e-02, -6.87179938e-02,  1.55158015e-02,\n",
       "         3.54476310e-02, -4.70998995e-02,  1.12075312e-02,\n",
       "        -1.35916183e-02,  1.05362246e-02, -7.51813427e-02,\n",
       "        -1.08453862e-01,  5.10240486e-03,  2.51982245e-03,\n",
       "        -1.18860858e-03, -3.85540584e-03,  1.18531855e-02,\n",
       "        -5.18184751e-02, -2.20182780e-02,  4.59243841e-02,\n",
       "        -3.37212496e-02,  6.76105097e-02, -2.89250091e-02,\n",
       "         6.76442236e-02,  5.44330850e-02,  1.03023246e-01,\n",
       "         9.86225903e-02,  4.27075960e-02,  2.51230448e-02,\n",
       "         6.84482092e-03, -2.84337206e-03,  2.44682562e-02,\n",
       "         1.97371729e-02, -2.71505094e-04, -4.00781222e-02,\n",
       "        -3.25818881e-02,  2.97211483e-02, -6.46008849e-02,\n",
       "         1.07537175e-03,  3.35549749e-02,  2.17334684e-02,\n",
       "        -1.83059517e-02,  4.53404412e-02, -1.09251859e-02,\n",
       "        -1.71781499e-02, -1.39062181e-02,  1.49266776e-02,\n",
       "         4.48971875e-02, -6.03901371e-02, -3.07441931e-02,\n",
       "         1.06823623e-01, -9.83312875e-02, -8.02451819e-02,\n",
       "         6.87252879e-02, -4.60442454e-02, -1.98364034e-02,\n",
       "        -4.54414450e-02,  2.97915787e-02,  1.03945537e-02,\n",
       "         2.04469301e-02, -4.05904353e-02,  1.12742931e-03,\n",
       "         1.19557409e-02, -5.94117977e-02,  1.66456196e-02,\n",
       "         4.55237488e-04,  2.55186783e-33, -5.12537286e-02,\n",
       "        -4.02531438e-02, -6.40036464e-02,  1.11076497e-01,\n",
       "        -1.77446138e-02, -6.54815361e-02,  7.32761621e-03,\n",
       "        -6.45889994e-03,  5.76601811e-02, -1.80471465e-02,\n",
       "        -5.94339669e-02,  9.59517621e-03,  1.39083005e-02,\n",
       "         9.48066916e-03, -2.24892865e-03, -1.47855617e-02,\n",
       "        -4.13804641e-03,  3.30788083e-02,  1.10095146e-03,\n",
       "         6.55245855e-02, -2.86941864e-02,  1.15294173e-01,\n",
       "        -8.33851025e-02,  2.99955290e-02,  9.64850262e-02,\n",
       "         3.46217938e-02, -6.15246780e-02, -3.59362476e-02,\n",
       "        -6.30709305e-02,  1.03048896e-02, -6.09725714e-02,\n",
       "        -1.79304536e-02, -3.80108953e-02, -3.12905312e-02,\n",
       "        -3.53484154e-02, -2.64569279e-02, -1.02785695e-02,\n",
       "        -2.61335820e-02,  4.06054631e-02, -1.14364480e-03,\n",
       "         2.71599274e-02,  7.09138960e-02, -4.12128754e-02,\n",
       "        -2.14153118e-02, -6.69314153e-03, -1.30676590e-02,\n",
       "        -5.22721596e-02,  4.86003831e-02, -1.56489741e-02,\n",
       "         4.29980978e-02, -1.76210292e-02,  1.66765004e-02,\n",
       "        -1.09532904e-02, -9.57036391e-03,  4.95321536e-03,\n",
       "        -9.48252063e-03,  5.77765405e-02, -1.36710346e-01,\n",
       "        -1.03847101e-01, -1.68678686e-02, -8.67815167e-02,\n",
       "         6.91864341e-02,  8.62805620e-02, -3.08702756e-02,\n",
       "         3.79016921e-02, -5.74239083e-02, -5.92464171e-02,\n",
       "         4.61852103e-02, -3.71597596e-02, -9.53484401e-02,\n",
       "         1.21186525e-01,  5.43111116e-02, -5.42753264e-02,\n",
       "         1.24363229e-01, -8.50465447e-02, -2.31543016e-02,\n",
       "         2.28694640e-02, -4.09210436e-02, -1.46640679e-02,\n",
       "        -9.85675026e-03,  9.74335521e-02, -3.01337074e-02,\n",
       "         6.53021932e-02,  4.19851542e-02,  7.89668038e-03,\n",
       "         9.76798907e-02,  3.60079110e-03,  7.45072262e-03,\n",
       "         5.84745023e-04, -9.17704329e-02, -8.23788121e-02,\n",
       "        -6.41737804e-02,  1.67494789e-02,  5.79794347e-02,\n",
       "        -6.76490963e-02, -1.65425256e-08, -6.28390461e-02,\n",
       "        -2.86854878e-02, -1.84143696e-03,  9.26737115e-03,\n",
       "         6.24894921e-04,  8.82649329e-03,  1.59308631e-02,\n",
       "         4.41780463e-02, -1.01719871e-01, -1.97007246e-02,\n",
       "        -1.74143575e-02,  3.78465950e-02, -8.90169665e-02,\n",
       "        -3.55009176e-02,  7.57686868e-02,  2.07349844e-02,\n",
       "         4.09925170e-02, -7.50067178e-03, -1.49775529e-02,\n",
       "         3.50179989e-03,  1.37114480e-01,  3.23547907e-02,\n",
       "        -6.08547926e-02,  8.45406875e-02, -2.90627446e-04,\n",
       "         1.55909033e-02, -5.62797971e-02, -1.54033881e-02,\n",
       "         7.49921054e-03, -6.12651818e-02,  3.13230641e-02,\n",
       "         1.24186836e-02, -9.66288440e-04,  1.62736252e-02,\n",
       "         1.53755233e-01,  8.45717043e-02,  5.24957851e-02,\n",
       "        -9.88429338e-02, -3.38044539e-02,  1.34077501e-02,\n",
       "         1.67745966e-02,  6.65139258e-02, -4.56617102e-02,\n",
       "         4.33068983e-02,  3.27084996e-02, -1.07194055e-02,\n",
       "         1.77481584e-02, -7.17415735e-02,  3.18505010e-03,\n",
       "         2.33234465e-02, -2.27617519e-03, -1.73547622e-02,\n",
       "        -3.65874134e-02,  1.23370113e-02,  1.33981379e-02,\n",
       "        -1.13790073e-02,  1.70574039e-02, -2.32588779e-02,\n",
       "        -1.42231137e-02, -1.46179786e-03,  3.29187023e-03,\n",
       "         1.36089310e-01,  5.51486798e-02,  4.13547568e-02]], dtype=float32)"
      ]
     },
     "execution_count": 23,
     "metadata": {},
     "output_type": "execute_result"
    }
   ],
   "source": [
    "model = SentenceTransformer('sentence-transformers/all-MiniLM-L6-v2')\n",
    "outputs2 = model.encode(input_text)\n",
    "outputs2"
   ]
  },
  {
   "cell_type": "code",
   "execution_count": 24,
   "id": "04f5895d-6394-4f6c-9aa6-e08922940e38",
   "metadata": {
    "execution": {
     "iopub.execute_input": "2025-01-17T11:53:20.218155Z",
     "iopub.status.busy": "2025-01-17T11:53:20.217538Z",
     "iopub.status.idle": "2025-01-17T11:53:20.226036Z",
     "shell.execute_reply": "2025-01-17T11:53:20.224859Z",
     "shell.execute_reply.started": "2025-01-17T11:53:20.218109Z"
    }
   },
   "outputs": [
    {
     "data": {
      "text/plain": [
       "(1, 384)"
      ]
     },
     "execution_count": 24,
     "metadata": {},
     "output_type": "execute_result"
    }
   ],
   "source": [
    "outputs2.shape"
   ]
  },
  {
   "cell_type": "markdown",
   "id": "51df90ed-3722-4e4d-ac94-3e710039f5ba",
   "metadata": {},
   "source": [
    "**IMPORTANT.** Do **NOT** mix embeddings calculated using different models!!!"
   ]
  },
  {
   "cell_type": "markdown",
   "id": "cd5b2e60-a9c6-4ddc-9f76-4ef12ae252fe",
   "metadata": {},
   "source": [
    "## Using BART"
   ]
  },
  {
   "cell_type": "code",
   "execution_count": 25,
   "id": "d34352e1-ae6b-4225-aaaf-f924859d6659",
   "metadata": {
    "execution": {
     "iopub.execute_input": "2025-01-17T11:57:37.802216Z",
     "iopub.status.busy": "2025-01-17T11:57:37.801340Z",
     "iopub.status.idle": "2025-01-17T11:57:41.362911Z",
     "shell.execute_reply": "2025-01-17T11:57:41.362386Z",
     "shell.execute_reply.started": "2025-01-17T11:57:37.802186Z"
    }
   },
   "outputs": [
    {
     "data": {
      "text/plain": [
       "tensor([[[-1.5298e-02,  7.2315e-01, -1.3559e+00,  ...,  3.0942e-01,\n",
       "           1.5447e-01,  3.9448e-01],\n",
       "         [-1.5299e-02,  7.2315e-01, -1.3559e+00,  ...,  3.0942e-01,\n",
       "           1.5447e-01,  3.9448e-01],\n",
       "         [ 1.0334e-01,  1.2594e+00, -3.9142e+00,  ..., -5.4476e-01,\n",
       "          -1.0373e+00,  2.1848e+00],\n",
       "         ...,\n",
       "         [ 2.8136e-01,  7.0862e+00, -5.0988e+00,  ...,  6.2025e-01,\n",
       "           9.3308e-01, -8.3185e-01],\n",
       "         [ 3.6580e-01,  4.7318e+00, -1.5565e+00,  ...,  4.6762e-01,\n",
       "          -1.6339e-01,  8.5705e-01],\n",
       "         [ 2.6700e-01,  1.8109e+00, -7.2498e-01,  ...,  3.4869e-03,\n",
       "          -1.0636e-01,  4.0109e-01]]])"
      ]
     },
     "execution_count": 25,
     "metadata": {},
     "output_type": "execute_result"
    }
   ],
   "source": [
    "from transformers import BartTokenizer, BartModel\n",
    "\n",
    "tokenizer = BartTokenizer.from_pretrained('facebook/bart-large')\n",
    "bartmodel = BartModel.from_pretrained('facebook/bart-large')\n",
    "\n",
    "inputs = tokenizer(input_text, return_tensors=\"pt\")\n",
    "bartmodel.eval() # No training, so optimizes things a bit\n",
    "with torch.no_grad(): # No need for backprop, so optimizes things a bit. Can be removed\n",
    "    outputs = bartmodel(**inputs)\n",
    "outputs.last_hidden_state"
   ]
  },
  {
   "cell_type": "markdown",
   "id": "1125bf26-49e3-4cb0-a59a-5e293b277576",
   "metadata": {},
   "source": [
    "## Using T5"
   ]
  },
  {
   "cell_type": "code",
   "execution_count": 33,
   "id": "fa29f5e9-ae45-4e3b-8102-926d7c08052c",
   "metadata": {
    "execution": {
     "iopub.execute_input": "2025-01-17T12:01:53.759911Z",
     "iopub.status.busy": "2025-01-17T12:01:53.759171Z",
     "iopub.status.idle": "2025-01-17T12:01:55.544746Z",
     "shell.execute_reply": "2025-01-17T12:01:55.544432Z",
     "shell.execute_reply.started": "2025-01-17T12:01:53.759869Z"
    }
   },
   "outputs": [
    {
     "name": "stdout",
     "output_type": "stream",
     "text": [
      "Die natürliche Sprachenverarbeitung ist ein sehr weites Feld.\n"
     ]
    }
   ],
   "source": [
    "from transformers import T5Tokenizer, T5ForConditionalGeneration\n",
    "\n",
    "tokenizer = T5Tokenizer.from_pretrained(\"google-t5/t5-small\")\n",
    "model = T5ForConditionalGeneration.from_pretrained(\"google-t5/t5-small\")\n",
    "prompt = \"Translate English to German: \" \n",
    "input_ids = tokenizer(prompt + input_text[0], return_tensors=\"pt\").input_ids\n",
    "\n",
    "model.eval() # No training, so optimizes things a bit\n",
    "with torch.no_grad(): # No need for backprop, so optimizes things a bit. Can be removed\n",
    "    outputs = model.generate(input_ids)\n",
    "print(tokenizer.decode(outputs[0], skip_special_tokens=True))"
   ]
  },
  {
   "cell_type": "markdown",
   "id": "f025040b-8ab6-43b6-ab9d-e96fcc5ee5d9",
   "metadata": {},
   "source": [
    "## Using Flan-T5\n",
    "\n",
    "`Flan-T5` is the latest evolution of the T5 model."
   ]
  },
  {
   "cell_type": "code",
   "execution_count": 35,
   "id": "f49467c9-bba7-46c2-a796-a935e2254019",
   "metadata": {
    "execution": {
     "iopub.execute_input": "2025-01-17T12:05:21.038528Z",
     "iopub.status.busy": "2025-01-17T12:05:21.035200Z",
     "iopub.status.idle": "2025-01-17T12:08:39.384339Z",
     "shell.execute_reply": "2025-01-17T12:08:39.383331Z",
     "shell.execute_reply.started": "2025-01-17T12:05:21.038378Z"
    }
   },
   "outputs": [
    {
     "data": {
      "application/vnd.jupyter.widget-view+json": {
       "model_id": "0ca861ce44c3437d838fef27cc31ce66",
       "version_major": 2,
       "version_minor": 0
      },
      "text/plain": [
       "Loading checkpoint shards:   0%|          | 0/2 [00:00<?, ?it/s]"
      ]
     },
     "metadata": {},
     "output_type": "display_data"
    },
    {
     "name": "stdout",
     "output_type": "stream",
     "text": [
      "El procesamiento natural de idiomas es un campo muy ampli\n"
     ]
    }
   ],
   "source": [
    "from transformers import T5Tokenizer, T5ForConditionalGeneration\n",
    "\n",
    "tokenizer = T5Tokenizer.from_pretrained(\"google/flan-t5-xl\")\n",
    "model = T5ForConditionalGeneration.from_pretrained(\"google/flan-t5-xl\")\n",
    "prompt = \"Translate English to Spanish: \" \n",
    "input_ids = tokenizer(prompt + input_text[0], return_tensors=\"pt\").input_ids\n",
    "\n",
    "model.eval() # No training, so optimizes things a bit\n",
    "with torch.no_grad(): # No need for backprop, so optimizes things a bit. Can be removed\n",
    "    outputs = model.generate(input_ids)\n",
    "print(tokenizer.decode(outputs[0], skip_special_tokens=True))"
   ]
  },
  {
   "cell_type": "markdown",
   "id": "251c0e0f-1330-431a-bef1-383d8f291fe4",
   "metadata": {},
   "source": [
    "## Using `transformers` Pipelines"
   ]
  },
  {
   "cell_type": "code",
   "execution_count": 38,
   "id": "572c3e86-546f-46c7-8285-9d8b84ee97d6",
   "metadata": {
    "execution": {
     "iopub.execute_input": "2025-01-17T12:08:46.996767Z",
     "iopub.status.busy": "2025-01-17T12:08:46.996610Z",
     "iopub.status.idle": "2025-01-17T12:08:47.000193Z",
     "shell.execute_reply": "2025-01-17T12:08:46.999073Z",
     "shell.execute_reply.started": "2025-01-17T12:08:46.996754Z"
    }
   },
   "outputs": [],
   "source": [
    "from transformers import pipeline"
   ]
  },
  {
   "cell_type": "code",
   "execution_count": 36,
   "id": "ad781fc0-2223-4279-97a6-66c122cd7a6d",
   "metadata": {
    "execution": {
     "iopub.execute_input": "2025-01-17T12:08:39.388130Z",
     "iopub.status.busy": "2025-01-17T12:08:39.387831Z",
     "iopub.status.idle": "2025-01-17T12:08:40.778717Z",
     "shell.execute_reply": "2025-01-17T12:08:40.778186Z",
     "shell.execute_reply.started": "2025-01-17T12:08:39.388112Z"
    }
   },
   "outputs": [
    {
     "name": "stderr",
     "output_type": "stream",
     "text": [
      "No model was supplied, defaulted to distilbert/distilbert-base-uncased-finetuned-sst-2-english and revision 714eb0f (https://huggingface.co/distilbert/distilbert-base-uncased-finetuned-sst-2-english).\n",
      "Using a pipeline without specifying a model name and revision in production is not recommended.\n",
      "Device set to use mps:0\n"
     ]
    },
    {
     "data": {
      "text/plain": [
       "[{'label': 'POSITIVE', 'score': 0.9986552000045776}]"
      ]
     },
     "execution_count": 36,
     "metadata": {},
     "output_type": "execute_result"
    }
   ],
   "source": [
    "# Sentiment analysis\n",
    "classifier = pipeline(\"sentiment-analysis\")\n",
    "classifier(input_text[0])"
   ]
  },
  {
   "cell_type": "code",
   "execution_count": 37,
   "id": "8e4fffec-7f75-45b7-9807-bb4791a191d3",
   "metadata": {
    "execution": {
     "iopub.execute_input": "2025-01-17T12:08:40.779455Z",
     "iopub.status.busy": "2025-01-17T12:08:40.779310Z",
     "iopub.status.idle": "2025-01-17T12:08:46.995340Z",
     "shell.execute_reply": "2025-01-17T12:08:46.994958Z",
     "shell.execute_reply.started": "2025-01-17T12:08:40.779441Z"
    }
   },
   "outputs": [
    {
     "name": "stderr",
     "output_type": "stream",
     "text": [
      "No model was supplied, defaulted to sshleifer/distilbart-cnn-12-6 and revision a4f8f3e (https://huggingface.co/sshleifer/distilbart-cnn-12-6).\n",
      "Using a pipeline without specifying a model name and revision in production is not recommended.\n",
      "Device set to use mps:0\n"
     ]
    },
    {
     "data": {
      "text/plain": [
       "[{'summary_text': \" ChatGPT is credited with starting the AI boom, which has led to ongoing rapid investment in and public attention to the field of artificial intelligence . By January 2023, it had become what was then the fastest-growing consumer software application in history, gaining over 100 million users and contributing to the growth of OpenAI's current valuation of $86 billion .\"}]"
      ]
     },
     "execution_count": 37,
     "metadata": {},
     "output_type": "execute_result"
    }
   ],
   "source": [
    "# Summarization\n",
    "summarizer = pipeline(\"summarization\")\n",
    "to_summarize = \"ChatGPT is credited with starting the AI boom, which has led to ongoing rapid investment in and public attention to the field of artificial intelligence (AI).[3] By January 2023, it had become what was then the fastest-growing consumer software application in history, gaining over 100 million users and contributing to the growth of OpenAI's current valuation of $86 billion.[4][5] ChatGPT's release spurred the release of competing products, including Gemini, Claude, Llama, Ernie, and Grok.[6] Microsoft launched Copilot, initially based on OpenAI's GPT-4. In June 2024, a partnership between Apple Inc. and OpenAI was announced in which ChatGPT is integrated into the Apple Intelligence feature of Apple operating systems.[7] Some observers raised concern about the potential of ChatGPT and similar programs to displace or atrophy human intelligence, enable plagiarism, or fuel misinformation.[8][9]\"\n",
    "summarizer(to_summarize)"
   ]
  }
 ],
 "metadata": {
  "kernelspec": {
   "display_name": "Python 3 (ipykernel)",
   "language": "python",
   "name": "python3"
  },
  "language_info": {
   "codemirror_mode": {
    "name": "ipython",
    "version": 3
   },
   "file_extension": ".py",
   "mimetype": "text/x-python",
   "name": "python",
   "nbconvert_exporter": "python",
   "pygments_lexer": "ipython3",
   "version": "3.10.16"
  }
 },
 "nbformat": 4,
 "nbformat_minor": 5
}
